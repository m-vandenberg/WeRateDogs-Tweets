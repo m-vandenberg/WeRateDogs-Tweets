{
 "cells": [
  {
   "cell_type": "markdown",
   "metadata": {},
   "source": [
    "## Reporting: wrangle_report\n",
    "Monique van den Berg"
   ]
  },
  {
   "cell_type": "markdown",
   "metadata": {},
   "source": [
    "This project is focused on the act of data wrangling the tweet archive of the Twitter account WeRateDogs. Data wrangling consists of gathering data from multiple sources, assessing the data for quality and tidiness issues and finally cleaning the data."
   ]
  },
  {
   "cell_type": "markdown",
   "metadata": {},
   "source": [
    "The WeRateDogs account rates and humorously comments about people's dogs. The ratings are mainly a score out of 10 or multiples of 10 if there are multiple dogs. Because \"they're good dogs\" the numerators are frequently a value larger than 10."
   ]
  },
  {
   "cell_type": "markdown",
   "metadata": {},
   "source": [
    "Three pieces of data were gathered for this wrangling project. The first piece was provided by WeRateDogs as a csv archive which consisted of basic tweet data. The second piece was a tsv file hosted on servers which needed to be programmatically downloaded using pythons request library. The tsv file contained the top three image predictions for the breed of dog shown in the tweet. The third piece of data was gathered by querying Twitter’s API named Tweepy. Using the tweet ids and Tweepy the retweet count and favorite count was gathered for each tweet in the csv archive."
   ]
  },
  {
   "cell_type": "markdown",
   "metadata": {},
   "source": [
    "After all three pieces of data were gathered the data was assessed visually by viewing all three pieces of data in their entirety. And programmatically with pandas to determine 8 or more quality issues and 2 or more tidiness issues. The following quality issues were detected: missing values, erroneous data types and wrong data. The following tidiness issues were detected: each variable didn’t form a column and each observational unit didn’t form a table.  "
   ]
  },
  {
   "cell_type": "markdown",
   "metadata": {},
   "source": [
    "In order to clean the issues discovered during the assessment a copy was made of each piece of data and the define-code-test framework was used to guide the cleaning process. Cleaning was performed on the copied data pieces and consisted of removing some row entries and columns, converting wrong data types, merging pieces of data and determining the correct values. The cleaning process resulted in a tidy master dataset which was stored in a csv file."
   ]
  }
 ],
 "metadata": {
  "kernelspec": {
   "display_name": "Python 3",
   "language": "python",
   "name": "python3"
  },
  "language_info": {
   "codemirror_mode": {
    "name": "ipython",
    "version": 3
   },
   "file_extension": ".py",
   "mimetype": "text/x-python",
   "name": "python",
   "nbconvert_exporter": "python",
   "pygments_lexer": "ipython3",
   "version": "3.6.3"
  }
 },
 "nbformat": 4,
 "nbformat_minor": 2
}
